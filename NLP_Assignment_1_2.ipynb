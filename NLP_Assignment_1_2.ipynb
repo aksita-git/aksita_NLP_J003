{
  "cells": [
    {
      "cell_type": "code",
      "execution_count": 22,
      "metadata": {
        "colab": {
          "base_uri": "https://localhost:8080/"
        },
        "id": "8sAhpM62XSpj",
        "outputId": "ab88942f-7a52-4d5e-935f-07dcfe41528c"
      },
      "outputs": [
        {
          "output_type": "stream",
          "name": "stdout",
          "text": [
            "Requirement already satisfied: gensim in /usr/local/lib/python3.11/dist-packages (4.3.3)\n",
            "Requirement already satisfied: numpy<2.0,>=1.18.5 in /usr/local/lib/python3.11/dist-packages (from gensim) (1.26.4)\n",
            "Requirement already satisfied: scipy<1.14.0,>=1.7.0 in /usr/local/lib/python3.11/dist-packages (from gensim) (1.13.1)\n",
            "Requirement already satisfied: smart-open>=1.8.1 in /usr/local/lib/python3.11/dist-packages (from gensim) (7.3.0.post1)\n",
            "Requirement already satisfied: wrapt in /usr/local/lib/python3.11/dist-packages (from smart-open>=1.8.1->gensim) (1.17.2)\n"
          ]
        }
      ],
      "source": [
        "pip install gensim"
      ]
    },
    {
      "cell_type": "code",
      "source": [
        "import pandas as pd\n",
        "\n",
        "df = pd.read_csv(\"IMDB Dataset.csv\")  # Load IMDB reviews\n",
        "df['label'] = df['sentiment'].map({'positive': 1, 'negative': 0})  # Convert to numeric\n",
        "\n",
        "print(df[['sentiment', 'label']].head())"
      ],
      "metadata": {
        "colab": {
          "base_uri": "https://localhost:8080/"
        },
        "id": "R139Z4poR670",
        "outputId": "d931a595-4531-4f68-9d07-37151cd223fa"
      },
      "execution_count": 33,
      "outputs": [
        {
          "output_type": "stream",
          "name": "stdout",
          "text": [
            "  sentiment  label\n",
            "0  positive      1\n",
            "1  positive      1\n",
            "2  positive      1\n",
            "3  negative      0\n",
            "4  positive      1\n"
          ]
        }
      ]
    },
    {
      "cell_type": "code",
      "source": [
        "print(\"Dataset shape:\", df.shape)\n",
        "print(\"Class distribution:\\n\", df['sentiment'].value_counts())\n",
        "\n",
        "df['review_length'] = df['review'].apply(lambda x: len(x.split()))\n",
        "print(df['review_length'].describe())"
      ],
      "metadata": {
        "colab": {
          "base_uri": "https://localhost:8080/"
        },
        "id": "FIY9kQmjTPM9",
        "outputId": "d23aef8a-0ccf-4028-bb7d-075cbea9b194"
      },
      "execution_count": 34,
      "outputs": [
        {
          "output_type": "stream",
          "name": "stdout",
          "text": [
            "Dataset shape: (50000, 3)\n",
            "Class distribution:\n",
            " sentiment\n",
            "positive    25000\n",
            "negative    25000\n",
            "Name: count, dtype: int64\n",
            "count    50000.000000\n",
            "mean       231.156940\n",
            "std        171.343997\n",
            "min          4.000000\n",
            "25%        126.000000\n",
            "50%        173.000000\n",
            "75%        280.000000\n",
            "max       2470.000000\n",
            "Name: review_length, dtype: float64\n"
          ]
        }
      ]
    },
    {
      "cell_type": "code",
      "source": [
        "import matplotlib.pyplot as plt\n",
        "df['review_length'].hist(bins=30)\n",
        "plt.title(\"Distribution of Review Length\")\n",
        "plt.show()"
      ],
      "metadata": {
        "colab": {
          "base_uri": "https://localhost:8080/",
          "height": 452
        },
        "id": "cHYiEcxbTQ79",
        "outputId": "4c1a7370-d300-48cd-8460-2956101972e9"
      },
      "execution_count": 35,
      "outputs": [
        {
          "output_type": "display_data",
          "data": {
            "text/plain": [
              "<Figure size 640x480 with 1 Axes>"
            ],
            "image/png": "[encoded data removed]"
          },
          "metadata": {}
        }
      ]
    },
    {
      "cell_type": "code",
      "source": [
        "import re\n",
        "import nltk\n",
        "from nltk.corpus import stopwords\n",
        "from nltk.stem import WordNetLemmatizer\n",
        "\n",
        "nltk.download('stopwords')\n",
        "nltk.download('wordnet')\n",
        "\n",
        "stop_words = set(stopwords.words('english'))\n",
        "lemmatizer = WordNetLemmatizer()\n",
        "\n",
        "def clean_text(text):\n",
        "    text = re.sub(r'<.*?>', ' ', text)  # remove HTML\n",
        "    text = re.sub(r'[^a-zA-Z]', ' ', text)  # remove special characters\n",
        "    tokens = text.lower().split()\n",
        "    tokens = [lemmatizer.lemmatize(word) for word in tokens if word not in stop_words]\n",
        "    return tokens\n",
        "\n",
        "df['tokens'] = df['review'].apply(clean_text)\n",
        "print(df['tokens'].head())"
      ],
      "metadata": {
        "colab": {
          "base_uri": "https://localhost:8080/"
        },
        "id": "8eUub9SjTSvW",
        "outputId": "928aadea-d147-4993-a04d-8861d39efb51"
      },
      "execution_count": 36,
      "outputs": [
        {
          "output_type": "stream",
          "name": "stderr",
          "text": [
            "[nltk_data] Downloading package stopwords to /root/nltk_data...\n",
            "[nltk_data]   Package stopwords is already up-to-date!\n",
            "[nltk_data] Downloading package wordnet to /root/nltk_data...\n",
            "[nltk_data]   Package wordnet is already up-to-date!\n"
          ]
        },
        {
          "output_type": "stream",
          "name": "stdout",
          "text": [
            "0    [one, reviewer, mentioned, watching, oz, episo...\n",
            "1    [wonderful, little, production, filming, techn...\n",
            "2    [thought, wonderful, way, spend, time, hot, su...\n",
            "3    [basically, family, little, boy, jake, think, ...\n",
            "4    [petter, mattei, love, time, money, visually, ...\n",
            "Name: tokens, dtype: object\n"
          ]
        }
      ]
    },
    {
      "cell_type": "code",
      "source": [
        "import numpy as np\n",
        "\n",
        "def get_doc_vector(tokens, model):\n",
        "    valid_words = [w for w in tokens if w in model]\n",
        "    if valid_words:\n",
        "        return np.mean([model[w] for w in valid_words], axis=0)\n",
        "    else:\n",
        "        return np.zeros(model.vector_size)"
      ],
      "metadata": {
        "id": "pIaStXgLTUCv"
      },
      "execution_count": 37,
      "outputs": []
    },
    {
      "cell_type": "markdown",
      "source": [
        "##Pretrained Word2Vec (Google News)"
      ],
      "metadata": {
        "id": "WmPqMwVsTxMp"
      }
    },
    {
      "cell_type": "code",
      "source": [
        "import gensim.downloader as api\n",
        "pre_w2v = api.load(\"word2vec-google-news-300\")\n",
        "df['pre_w2v_vec'] = df['tokens'].apply(lambda x: get_doc_vector(x, pre_w2v))"
      ],
      "metadata": {
        "id": "q1UQkfu2TuNX"
      },
      "execution_count": 38,
      "outputs": []
    },
    {
      "cell_type": "code",
      "source": [
        "from gensim.models import Word2Vec, FastText\n",
        "\n",
        "# Custom Skip-gram\n",
        "print(\"🧠 Training custom Skip-gram model...\")\n",
        "skipgram_model = Word2Vec(sentences=df['tokens'], vector_size=100, sg=1, window=5, min_count=2, workers=4).wv\n",
        "df['skipgram_vec'] = df['tokens'].apply(lambda x: get_doc_vector(x, skipgram_model))\n",
        "\n",
        "# Custom CBOW\n",
        "print(\"🧠 Training custom CBOW model...\")\n",
        "cbow_model = Word2Vec(sentences=df['tokens'], vector_size=100, sg=0, window=5, min_count=2, workers=4).wv\n",
        "df['cbow_vec'] = df['tokens'].apply(lambda x: get_doc_vector(x, cbow_model))"
      ],
      "metadata": {
        "colab": {
          "base_uri": "https://localhost:8080/"
        },
        "id": "5s-uD0RvT1iB",
        "outputId": "5af765c7-37fc-473f-f7ed-824a085658ec"
      },
      "execution_count": 39,
      "outputs": [
        {
          "output_type": "stream",
          "name": "stdout",
          "text": [
            "🧠 Training custom Skip-gram model...\n",
            "🧠 Training custom CBOW model...\n"
          ]
        }
      ]
    },
    {
      "cell_type": "markdown",
      "source": [
        "##FastText Model"
      ],
      "metadata": {
        "id": "fSvW3tquXoqO"
      }
    },
    {
      "cell_type": "code",
      "source": [
        "fasttext_model = FastText(sentences=df['tokens'], vector_size=100, sg=1, window=5, min_count=2, workers=4).wv\n",
        "df['fasttext_vec'] = df['tokens'].apply(lambda x: get_doc_vector(x, fasttext_model))"
      ],
      "metadata": {
        "id": "clAdJ6MbWJPP"
      },
      "execution_count": 40,
      "outputs": []
    },
    {
      "cell_type": "code",
      "source": [
        "from sklearn.linear_model import LogisticRegression\n",
        "from sklearn.model_selection import train_test_split\n",
        "from sklearn.metrics import accuracy_score, classification_report\n",
        "\n",
        "def train_and_evaluate(vec_column, model_name):\n",
        "    X = np.vstack(df[vec_column].values)\n",
        "    y = df['label'].values\n",
        "\n",
        "    X_train, X_test, y_train, y_test = train_test_split(X, y, test_size=0.2, random_state=42)\n",
        "\n",
        "    clf = LogisticRegression(max_iter=1000)\n",
        "    clf.fit(X_train, y_train)\n",
        "    y_pred = clf.predict(X_test)\n",
        "\n",
        "    acc = accuracy_score(y_test, y_pred)\n",
        "    print(f\"\\n{model_name} Accuracy: {acc:.4f}\")\n",
        "    print(classification_report(y_test, y_pred))\n",
        "\n",
        "    return model_name, acc\n"
      ],
      "metadata": {
        "id": "02IZqgGQXn6l"
      },
      "execution_count": 41,
      "outputs": []
    },
    {
      "cell_type": "code",
      "source": [
        "results = []\n",
        "results.append(train_and_evaluate('pre_w2v_vec', 'Pretrained Word2Vec'))\n",
        "results.append(train_and_evaluate('skipgram_vec', 'Custom Skipgram'))\n",
        "results.append(train_and_evaluate('cbow_vec', 'Custom CBOW'))\n",
        "results.append(train_and_evaluate('fasttext_vec', 'Custom FastText'))\n",
        "\n",
        "# Tabulate results\n",
        "import pandas as pd\n",
        "result_df = pd.DataFrame(results, columns=[\"Model\", \"Accuracy\"])\n",
        "print(\"\\n Final Accuracy Comparison:\\n\")\n",
        "print(result_df)\n"
      ],
      "metadata": {
        "id": "4LKHzwuoZjJ3",
        "outputId": "536c990c-06e8-4ab2-e828-d8f053755db7",
        "colab": {
          "base_uri": "https://localhost:8080/"
        }
      },
      "execution_count": 42,
      "outputs": [
        {
          "output_type": "stream",
          "name": "stdout",
          "text": [
            "\n",
            "Pretrained Word2Vec Accuracy: 0.8496\n",
            "              precision    recall  f1-score   support\n",
            "\n",
            "           0       0.85      0.85      0.85      4961\n",
            "           1       0.85      0.85      0.85      5039\n",
            "\n",
            "    accuracy                           0.85     10000\n",
            "   macro avg       0.85      0.85      0.85     10000\n",
            "weighted avg       0.85      0.85      0.85     10000\n",
            "\n",
            "\n",
            "Custom Skipgram Accuracy: 0.8730\n",
            "              precision    recall  f1-score   support\n",
            "\n",
            "           0       0.88      0.87      0.87      4961\n",
            "           1       0.87      0.88      0.87      5039\n",
            "\n",
            "    accuracy                           0.87     10000\n",
            "   macro avg       0.87      0.87      0.87     10000\n",
            "weighted avg       0.87      0.87      0.87     10000\n",
            "\n",
            "\n",
            "Custom CBOW Accuracy: 0.8606\n",
            "              precision    recall  f1-score   support\n",
            "\n",
            "           0       0.87      0.85      0.86      4961\n",
            "           1       0.86      0.87      0.86      5039\n",
            "\n",
            "    accuracy                           0.86     10000\n",
            "   macro avg       0.86      0.86      0.86     10000\n",
            "weighted avg       0.86      0.86      0.86     10000\n",
            "\n",
            "\n",
            "Custom FastText Accuracy: 0.8720\n",
            "              precision    recall  f1-score   support\n",
            "\n",
            "           0       0.87      0.87      0.87      4961\n",
            "           1       0.87      0.88      0.87      5039\n",
            "\n",
            "    accuracy                           0.87     10000\n",
            "   macro avg       0.87      0.87      0.87     10000\n",
            "weighted avg       0.87      0.87      0.87     10000\n",
            "\n",
            "\n",
            " Final Accuracy Comparison:\n",
            "\n",
            "                 Model  Accuracy\n",
            "0  Pretrained Word2Vec    0.8496\n",
            "1      Custom Skipgram    0.8730\n",
            "2          Custom CBOW    0.8606\n",
            "3      Custom FastText    0.8720\n"
          ]
        }
      ]
    },
    {
      "cell_type": "code",
      "source": [],
      "metadata": {
        "id": "10cHW5PLZqje"
      },
      "execution_count": null,
      "outputs": []
    }
  ],
  "metadata": {
    "colab": {
      "provenance": []
    },
    "kernelspec": {
      "display_name": "Python 3",
      "name": "python3"
    },
    "language_info": {
      "name": "python"
    }
  },
  "nbformat": 4,
  "nbformat_minor": 0
}