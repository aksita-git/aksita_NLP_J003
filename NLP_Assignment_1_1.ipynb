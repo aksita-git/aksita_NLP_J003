{
  "nbformat": 4,
  "nbformat_minor": 0,
  "metadata": {
    "colab": {
      "provenance": []
    },
    "kernelspec": {
      "name": "python3",
      "display_name": "Python 3"
    },
    "language_info": {
      "name": "python"
    }
  },
  "cells": [
    {
      "cell_type": "code",
      "execution_count": 1,
      "metadata": {
        "colab": {
          "base_uri": "https://localhost:8080/"
        },
        "id": "kc9vtin_Mc3v",
        "outputId": "cfc7bdf8-f735-4362-ae3a-8281540b6154"
      },
      "outputs": [
        {
          "output_type": "stream",
          "name": "stdout",
          "text": [
            "Requirement already satisfied: gensim in /usr/local/lib/python3.11/dist-packages (4.3.3)\n",
            "Requirement already satisfied: numpy<2.0,>=1.18.5 in /usr/local/lib/python3.11/dist-packages (from gensim) (1.26.4)\n",
            "Requirement already satisfied: scipy<1.14.0,>=1.7.0 in /usr/local/lib/python3.11/dist-packages (from gensim) (1.13.1)\n",
            "Requirement already satisfied: smart-open>=1.8.1 in /usr/local/lib/python3.11/dist-packages (from gensim) (7.3.0.post1)\n",
            "Requirement already satisfied: wrapt in /usr/local/lib/python3.11/dist-packages (from smart-open>=1.8.1->gensim) (1.17.2)\n"
          ]
        }
      ],
      "source": [
        "!pip install gensim"
      ]
    },
    {
      "cell_type": "code",
      "source": [
        "import gensim.downloader as api"
      ],
      "metadata": {
        "id": "pqASBiFUMj6N"
      },
      "execution_count": 2,
      "outputs": []
    },
    {
      "cell_type": "code",
      "source": [
        "model = api.load(\"word2vec-google-news-300\")"
      ],
      "metadata": {
        "colab": {
          "base_uri": "https://localhost:8080/"
        },
        "id": "IkoE5-hKM0mo",
        "outputId": "7f853b10-d47c-4568-9a81-b13549c949fa"
      },
      "execution_count": 3,
      "outputs": [
        {
          "output_type": "stream",
          "name": "stdout",
          "text": [
            "[==================================================] 100.0% 1662.8/1662.8MB downloaded\n"
          ]
        }
      ]
    },
    {
      "cell_type": "code",
      "source": [
        "words = ['computer', 'music', 'university', 'car', 'food']\n",
        "\n",
        "print(\"\\n--- Similar words ---\")\n",
        "for word in words:\n",
        "    if word in model:\n",
        "        print(f\"\\nTop similar words to '{word}':\")\n",
        "        for similar_word, similarity in model.most_similar(word, topn=5):\n",
        "            print(f\"  {similar_word} ({similarity:.3f})\")\n",
        "    else:\n",
        "        print(f\"\\n'{word}' not in vocabulary.\")"
      ],
      "metadata": {
        "colab": {
          "base_uri": "https://localhost:8080/"
        },
        "id": "QV5UxLTmM3bv",
        "outputId": "6861a22c-779e-4abe-fb58-7a4b571c0a1b"
      },
      "execution_count": 4,
      "outputs": [
        {
          "output_type": "stream",
          "name": "stdout",
          "text": [
            "\n",
            "--- Similar words ---\n",
            "\n",
            "Top similar words to 'computer':\n",
            "  computers (0.798)\n",
            "  laptop (0.664)\n",
            "  laptop_computer (0.655)\n",
            "  Computer (0.647)\n",
            "  com_puter (0.608)\n",
            "\n",
            "Top similar words to 'music':\n",
            "  classical_music (0.720)\n",
            "  jazz (0.683)\n",
            "  Music (0.660)\n",
            "  Without_Donny_Kirshner (0.642)\n",
            "  songs (0.640)\n",
            "\n",
            "Top similar words to 'university':\n",
            "  universities (0.700)\n",
            "  faculty (0.678)\n",
            "  unversity (0.676)\n",
            "  undergraduate (0.659)\n",
            "  univeristy (0.659)\n",
            "\n",
            "Top similar words to 'car':\n",
            "  vehicle (0.782)\n",
            "  cars (0.742)\n",
            "  SUV (0.716)\n",
            "  minivan (0.691)\n",
            "  truck (0.674)\n",
            "\n",
            "Top similar words to 'food':\n",
            "  foods (0.680)\n",
            "  Food (0.654)\n",
            "  foodstuffs (0.643)\n",
            "  meals (0.617)\n",
            "  food_stuffs (0.593)\n"
          ]
        }
      ]
    },
    {
      "cell_type": "code",
      "source": [
        "print(\"\\n--- Word Analogies ---\")\n",
        "\n",
        "analogies = [\n",
        "    ('king', 'man', 'woman'),       # should return \"queen\"\n",
        "    ('paris', 'france', 'italy'),   # should return \"rome\"\n",
        "    ('walking', 'walk', 'swim'),    # should return \"swimming\"\n",
        "]\n",
        "\n",
        "for a, b, c in analogies:\n",
        "    try:\n",
        "        result = model.most_similar(positive=[a, c], negative=[b], topn=1)\n",
        "        print(f\"{a} - {b} + {c} ≈ {result[0][0]} ({result[0][1]:.3f})\")\n",
        "    except KeyError as e:\n",
        "        print(f\"One of the words not in vocab: {e}\")"
      ],
      "metadata": {
        "id": "T_61kKejO1YR",
        "outputId": "0b23895b-01c4-49bf-e5ae-57644c426693",
        "colab": {
          "base_uri": "https://localhost:8080/"
        }
      },
      "execution_count": 6,
      "outputs": [
        {
          "output_type": "stream",
          "name": "stdout",
          "text": [
            "\n",
            "--- Word Analogies ---\n",
            "king - man + woman ≈ queen (0.712)\n",
            "paris - france + italy ≈ lohan (0.507)\n",
            "walking - walk + swim ≈ swimming (0.825)\n"
          ]
        }
      ]
    },
    {
      "cell_type": "code",
      "source": [],
      "metadata": {
        "id": "3fnO82-OO7sM"
      },
      "execution_count": null,
      "outputs": []
    }
  ]
}